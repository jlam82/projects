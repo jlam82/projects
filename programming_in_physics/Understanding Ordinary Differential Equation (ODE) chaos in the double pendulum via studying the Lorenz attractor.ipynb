version https://git-lfs.github.com/spec/v1
oid sha256:8539e6f4e067026c5abba5ad77012d53d4d51cb84bec71e1c015a4032f1d5aaf
size 132140057
