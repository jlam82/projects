{
 "cells": [
  {
   "cell_type": "markdown",
   "id": "82d13814",
   "metadata": {},
   "source": [
    "# <u>3/30/2024:</u>\n",
    "<a href=https://www.geeksforgeeks.org/python-reading-contents-of-pdf-using-ocr-optical-character-recognition/>Python | Reading contents of PDF using OCR (Optical Character Recognition)</a>"
   ]
  },
  {
   "cell_type": "code",
   "execution_count": 1,
   "id": "d3451d49",
   "metadata": {
    "scrolled": true
   },
   "outputs": [
    {
     "name": "stdout",
     "output_type": "stream",
     "text": [
      "Requirement already satisfied: pip in c:\\users\\jeff lam\\anaconda3\\lib\\site-packages (22.2.2)\n",
      "Collecting pip\n",
      "  Downloading pip-24.0-py3-none-any.whl (2.1 MB)\n",
      "     ---------------------------------------- 2.1/2.1 MB 5.6 MB/s eta 0:00:00\n"
     ]
    },
    {
     "name": "stderr",
     "output_type": "stream",
     "text": [
      "ERROR: To modify pip, please run the following command:\n",
      "C:\\Users\\Jeff Lam\\anaconda3\\python.exe -m pip install --upgrade pip\n"
     ]
    },
    {
     "name": "stdout",
     "output_type": "stream",
     "text": [
      "Requirement already satisfied: Pillow in c:\\users\\jeff lam\\anaconda3\\lib\\site-packages (9.2.0)\n",
      "Collecting Pillow\n",
      "  Downloading pillow-10.3.0-cp39-cp39-win_amd64.whl (2.5 MB)\n",
      "     ---------------------------------------- 2.5/2.5 MB 5.8 MB/s eta 0:00:00\n",
      "Installing collected packages: Pillow\n",
      "  Attempting uninstall: Pillow\n",
      "    Found existing installation: Pillow 9.2.0\n",
      "    Uninstalling Pillow-9.2.0:\n",
      "      Successfully uninstalled Pillow-9.2.0\n",
      "Successfully installed Pillow-10.3.0\n"
     ]
    }
   ],
   "source": [
    "! pip install --upgrade pip\n",
    "! pip install --upgrade Pillow"
   ]
  },
  {
   "cell_type": "markdown",
   "id": "a69daa81",
   "metadata": {},
   "source": [
    "> <i>Cell code from `.../Harp151/in-class/2-8/2-8 main`</i>.\n",
    ">"
   ]
  },
  {
   "cell_type": "code",
   "execution_count": 2,
   "id": "94406c50",
   "metadata": {},
   "outputs": [
    {
     "name": "stdout",
     "output_type": "stream",
     "text": [
      "Collecting pytesseract\n",
      "  Downloading pytesseract-0.3.10-py3-none-any.whl (14 kB)\n",
      "Requirement already satisfied: packaging>=21.3 in c:\\users\\jeff lam\\anaconda3\\lib\\site-packages (from pytesseract) (21.3)\n",
      "Requirement already satisfied: Pillow>=8.0.0 in c:\\users\\jeff lam\\anaconda3\\lib\\site-packages (from pytesseract) (10.3.0)\n",
      "Requirement already satisfied: pyparsing!=3.0.5,>=2.0.2 in c:\\users\\jeff lam\\anaconda3\\lib\\site-packages (from packaging>=21.3->pytesseract) (3.0.9)\n",
      "Installing collected packages: pytesseract\n",
      "Successfully installed pytesseract-0.3.10\n"
     ]
    }
   ],
   "source": [
    "! pip install pytesseract"
   ]
  },
  {
   "cell_type": "code",
   "execution_count": 3,
   "id": "bc28220c",
   "metadata": {},
   "outputs": [
    {
     "name": "stdout",
     "output_type": "stream",
     "text": [
      "Collecting pdf2image\n",
      "  Downloading pdf2image-1.17.0-py3-none-any.whl (11 kB)\n",
      "Requirement already satisfied: pillow in c:\\users\\jeff lam\\anaconda3\\lib\\site-packages (from pdf2image) (10.3.0)\n",
      "Installing collected packages: pdf2image\n",
      "Successfully installed pdf2image-1.17.0\n"
     ]
    }
   ],
   "source": [
    "! pip install pdf2image"
   ]
  },
  {
   "cell_type": "markdown",
   "id": "d2d149cc",
   "metadata": {},
   "source": [
    "# <u>4/2/24:</u>"
   ]
  },
  {
   "cell_type": "code",
   "execution_count": 4,
   "id": "768f885c",
   "metadata": {},
   "outputs": [
    {
     "name": "stdout",
     "output_type": "stream",
     "text": [
      "Collecting tesseract\n",
      "  Downloading tesseract-0.1.3.tar.gz (45.6 MB)\n",
      "     ---------------------------------------- 45.6/45.6 MB 2.6 MB/s eta 0:00:00\n",
      "  Preparing metadata (setup.py): started\n",
      "  Preparing metadata (setup.py): finished with status 'done'\n",
      "Building wheels for collected packages: tesseract\n",
      "  Building wheel for tesseract (setup.py): started\n",
      "  Building wheel for tesseract (setup.py): finished with status 'done'\n",
      "  Created wheel for tesseract: filename=tesseract-0.1.3-py3-none-any.whl size=45562552 sha256=3d03ff7febf543f6c21044b9245463c9c66e79971255d279aaa4002aa8739161\n",
      "  Stored in directory: c:\\users\\jeff lam\\appdata\\local\\pip\\cache\\wheels\\6c\\c5\\81\\8310cc52076953e53412ed1875a5e224c92940235bdcee21a2\n",
      "Successfully built tesseract\n",
      "Installing collected packages: tesseract\n",
      "Successfully installed tesseract-0.1.3\n"
     ]
    }
   ],
   "source": [
    "! pip install tesseract"
   ]
  },
  {
   "cell_type": "code",
   "execution_count": 3,
   "id": "d9579094",
   "metadata": {},
   "outputs": [
    {
     "name": "stdout",
     "output_type": "stream",
     "text": [
      "\n"
     ]
    }
   ],
   "source": [
    "import pytesseract\n",
    "from PIL import Image\n",
    "pytesseract.pytesseract.tesseract_cmd = r'C:\\Users\\JetBl\\AppData\\Local\\Programs\\Tesseract-OCR\\tesseract.exe'\n",
    "\n",
    "img_file1 = \"page_01.jpg\"\n",
    "img1 = Image.open(img_file1)\n",
    "\n",
    "ocr_result1 = pytesseract.image_to_string(img1)\n",
    "print(ocr_result1)"
   ]
  },
  {
   "cell_type": "markdown",
   "id": "9afa7cb5",
   "metadata": {},
   "source": [
    "<u>Troubleshooting:</u>\n",
    "> https://stackoverflow.com/questions/1124810/how-can-i-find-path-to-given-file <br><br>\n",
    "https://www.scaledeskit.net/post/Why-does-Windows-use-backslashes-for-paths-and-Unix-forward-slashes#:~:text=Windows%20uses%20backslashes%20to%20separate,maintain%20their%20unique%20path%20separators. <br><br>\n",
    "https://stackoverflow.com/questions/50951955/pytesseract-tesseractnotfound-error-tesseract-is-not-installed-or-its-not-i $\\leftarrow$(THIS WAS GREAT)\n",
    ">"
   ]
  },
  {
   "cell_type": "code",
   "execution_count": 6,
   "id": "3cfdd346",
   "metadata": {},
   "outputs": [
    {
     "name": "stdout",
     "output_type": "stream",
     "text": [
      "“GABRIEL Meamall\n",
      "\n",
      "On Easter morning in the year 1944, I took my six-year-old\n",
      "son by the hand and began walking fron my home town toward the\n",
      "valleys and forests of the Carpathi2n mountains. For nearly\n",
      "eight months we lived in barns, attics and makeshift eabins. With\n",
      "the pene nous nelp of an unusually courageous man, we managed to\n",
      "survive Europe's greatest fit of madness. Those who walked in\n",
      "the opposite direction on that Easter day were lese fortunate.\n",
      "They were taken in trainloads to places whose once obscure names\n",
      "are now, and forever will be, synonymous with terror, evil and\n",
      "death. What follows is our story of survival told to the best\n",
      "of my ability, in plain, simple language.\n",
      "\n",
      "In March of 1944 the SS troops took over the internal affairs\n",
      "of Hungary and proceeded to organize the deportation of the dows.\n",
      "To the Nazie thie was a routine assignment; within hours all local\n",
      "officials were informed of operational plans. The high command\n",
      "issued a directive designed to placate Jewish fears and induce\n",
      "cooperation. It was announced that the Jews would be shipped to\n",
      "Poland as an emergency labor force and that they were only being\n",
      "drafted for temporary work. There were many who believed this\n",
      "version. Others, less credulous, resigred themselves and hoped for\n",
      "the vest. Still others began to make plans for escape. By Aprii\n",
      "13 the Hungarian Jews were being rounded up from all over the .\n",
      "country in what was once a huge brick factory. The rest is well\n",
      "known. .\n",
      "\n",
      "I was working in Ungvar and usually came home on weekends.\n",
      "\n",
      "At that time it was no longer possible for a Jew to travel freely.\n",
      "\n",
      "\n"
     ]
    }
   ],
   "source": [
    "import pytesseract\n",
    "from PIL import Image\n",
    "pytesseract.pytesseract.tesseract_cmd = r'C:\\Users\\JetBl\\AppData\\Local\\Programs\\Tesseract-OCR\\tesseract.exe'\n",
    "\n",
    "img_file2 = \"cv2_results/no_noise.jpg\"\n",
    "img2 = Image.open(img_file2)\n",
    "\n",
    "ocr_result2 = pytesseract.image_to_string(img2)\n",
    "print(ocr_result2)"
   ]
  },
  {
   "cell_type": "markdown",
   "id": "161ae44a",
   "metadata": {},
   "source": [
    "<u>Other references:</u>\n",
    "> https://builtin.com/articles/python-tesseract"
   ]
  },
  {
   "cell_type": "markdown",
   "id": "0567bda4",
   "metadata": {},
   "source": [
    "# <u>4/3/2024:</u>\n",
    "<a href=\"https://www.youtube.com/watch?v=DXYPXZH2eGE\">How to OCR an Index in Python with PyTesseract (OCR in Python Tutorials 03.01)</a>"
   ]
  },
  {
   "cell_type": "code",
   "execution_count": 7,
   "id": "3d704b9b",
   "metadata": {},
   "outputs": [
    {
     "name": "stdout",
     "output_type": "stream",
     "text": [
      "INDEX NOMINUM.\n",
      "\n",
      "SCRIPSIT KAROLUS HAMPE.\n",
      "\n",
      "Maior numerus indicat paginam, minor lineam.\n",
      "\n",
      "A.v. E.\n",
      "\n",
      "Aaron 38, 20. 123, 18. 168, 6. 203, 38. |\n",
      "\n",
      "Abacue propheta 36, 5. 319,29. 373, 23.\n",
      "Abagarus rex Edessenorum 382, 13.\n",
      "Abdenago 585, 3.\n",
      "\n",
      "Abel 26, 11.\n",
      "\n",
      "Abigail 606, 6.\n",
      "\n",
      "Abraham 26,18. 124,18. 133, 23, 2:\n",
      "264. 302, 13. 303, 13. 320, 40. 328, 1.\n",
      "496, 22.\n",
      "\n",
      "Absalon 102, 5.\n",
      "\n",
      "Acgfredi v. Ecgfridus.\n",
      "\n",
      "Achab rex 504, 1.\n",
      "\n",
      "Achaz rex 504,1.\n",
      "\n",
      "Achiel 606, 19.\n",
      "\n",
      "Achilon 496, 26.\n",
      "\n",
      "Adal-, Adel-, Adhel-, Aedel-, Aedel-,\n",
      "‘Aedil-, Aed\n",
      "Athel-, Athil-, Aethel-, Aethil-\n",
      "Ethel-.\n",
      "\n",
      "Aedelbaldusabb.S. Petri Wiremuthen-\n",
      "sis et S. Pauli Girwensis 110, 28.\n",
      "\n",
      "Aedilberctus, Aedilberthus ep. Ha-\n",
      "gulstadensis, antea ep. Candidae\n",
      "casae sive Witernensis 27,43. 72,16.\n",
      "\n",
      "Adalbertus, Aedilberctus sive Magus,\n",
      "discipulus et capellanus Arnonis\n",
      "archiep. Salisburg., postea_abb.\n",
      "Ferrariensis 254, 1. 320, 41. 322, 19.\n",
      "416. 418, 14. 422, 10.\n",
      "\n",
      "Adalpertabb. [Tegernseensis ?]497,2.\n",
      "\n",
      "Adalbertus presb. monasterii 8. Mar-\n",
      "tini Turonensis 399, 3.\n",
      "\n",
      "Aedilburga, Edilburga, cognom. Euge-\n",
      "nia, abbatissa Flaedanbyrgensis,\n",
      "filia Offae regis Merciorum 78, 1.\n",
      "148, 32. 149, 33 [?]7 458.\n",
      "\n",
      "Aethelfleda uxor Aethilredi regis\n",
      "Northanhumbrorum, filia Offae\n",
      "regis Merciorum 149, 14. 150, 4.\n",
      "\n",
      "Adalgarius ep. [Trecensis?] 510, 10.\n",
      "\n",
      "Adelgisa filia Arichis ducis Bene-\n",
      "ventani 506, 27.\n",
      "\n",
      "Adalgisus fil. Desiderii regis Lango-\n",
      "bardorum 503, 45.\n",
      "\n",
      "Episrotae IV.\n",
      "\n",
      "il-, Edel-, Edil-, Athal-, |\n",
      "\n",
      "Aethelhardus, Aethilhardus, Athel-\n",
      "hardus, Athilhardus, Aedelhardus,\n",
      "Aedelhardus, Aedilhardus, Aedil-\n",
      "hardus, Ethelardus, Edelardus\n",
      "archiep. Cantuariensis Dorovernen-\n",
      "sis ecclesiae metropolitanus 46, 9.\n",
      "49,9, 128,2. 145, 31, 147,5. 188. 189.\n",
      "192, 24. 193, 5 [?]. 374376, v9. 377, 4.\n",
      "412. 4141 (2 448. 449 [2]. 450 [2].\n",
      "\n",
      "| 451,8([?]. 479. 480. 614, 10. 21. 36.\n",
      "\n",
      "| Adalhardus , cognom. Antonius, abb.\n",
      "Corbeiae veteris, fil. Bernhardi\n",
      "eo Caroli Magni 34, 25. 290.\n",
      "\n",
      "1. 299. 300. 364. 365, 381. 382.\n",
      "509. 566,16; frater: Bernarius;\n",
      "fratres 381,25; soror: Gundrada.\n",
      "\n",
      "Adalmondus, Aethelmodus ep. Scire-\n",
      "\n",
      "| burnensis 29, 9.\n",
      "\n",
      "Adelperga uxor Arichis ducis Bene-\n",
      "\n",
      "| ventani, filia Desiderii regis Lango-\n",
      "\n",
      "bardorum 506, 5; liberi: Romual-\n",
      "dus, Grimoaldus, Adelgisa.\n",
      "\n",
      "| Adalpert v, Adalbertus.\n",
      "\n",
      "Aedelredus, Aedilredus, Aethelredus,\n",
      "Aethilredus, Hedilredus rex Nor-\n",
      "thanhumbrorum, fil. Aedelwaldi\n",
      "Moll regis 33,15. 35,8. 41, 19.\n",
      "49,16. 71, 20. 146,2. 147, 10. 150, 6.\n",
      "151, 35. 171,17. 377,31; mater:\n",
      "Aedilthyda; uxor: Aethelfleda;\n",
      "famulus: Torchmundus.\n",
      "\n",
      "Adhelricus diaconus, discipulus et\n",
      "capellanus Arnonis archiep. Salis-\n",
      "burg., postea abbas Ferrariensis,\n",
      "archiepiscopus Senonensis, 418, 14.\n",
      "422, 10.\n",
      "\n",
      "Aedilthyda, Edilthruda uxor Aethel-\n",
      "waldi Moll regis Northanhumbro-\n",
      "rum, postea abbatissa 120,12. 151,17.\n",
      "152,31 (hs filius: Aethelredus rex\n",
      "Northanhumbrorum.\n",
      "\n",
      "Edildryda uxor Ecgfridi regis Nor-\n",
      "thanhumbrorum, postea abbatissa\n",
      "(t 679) 417,15.\n",
      "\n",
      "Aedelwaldus, Aethelwoldus Moll rex\n",
      "Northanhumbrorum 33, 16; uxor:\n",
      "Aedilthyda; filius; Aethelredus,\n",
      "\n",
      "Adalwinus ep. Reginensis 421, 24.\n",
      "422, 21. 424,3.\n",
      "\n",
      "Aethiluuinus episcopus 28, 2.\n",
      "\n",
      "Adam 124, 201,1. 226, 7. 264, 21.\n",
      "879, 29. 466, 36—468, 25. 591, 34.\n",
      "Adam abb. monasterii Gemeticensis\n",
      "\n",
      "579.\n",
      "\n",
      "Adaula abbatissa Anglica 112, 4.\n",
      "\n",
      "Adoredus, Hathoredus ep. Hwiccio-\n",
      "rum [Wigorniensis] 29, 10.\n",
      "\n",
      "Adrianus v. Hadrianus.\n",
      "\n",
      "Adriaticum mare 324, 41.\n",
      "\n",
      "| Aedel-, Aedil-, v. Adal-.\n",
      "\n",
      "Aegesippus [i. e. Hegesippus] 501, 11.\n",
      "\n",
      "Aegil v. Eigil.\n",
      "\n",
      "Aegyptus, Egyptus 123,19. 554, 17;\n",
      "Aegyptii, Aegyptiaci 231. 232, 17.\n",
      "467, 36. 567,6. 571,33; Egyptiacae\n",
      "divitiae 470, 22; Aegyptiacae tene-\n",
      "brae 232, 3; Acgypit rex: Pharao;\n",
      "Aegyptiacascola, Aegyptiaci pueri\n",
      "v. Carolus I imperator.\n",
      "\n",
      "Aeine, Aesne, Esne ep. Herefordensis\n",
      "29, 6.\n",
      "\n",
      "Aelberhtus archiep. Eboracensis, ma-\n",
      "\n",
      "‘ister Alevini abbatis (162, 24]. 167,s.\n",
      "171,19]. [177,5]. [224,20]. [239, 28].\n",
      "332, 28]. [377,32]. (378, 31]. [429,27\n",
      "\n",
      "Aelfvaldus, Aelfwaldus rex Nor-\n",
      "thanhymbrorum, [Transhymbranae\n",
      "gentis] 20, 27. 28, 11. 43,8. 377, 31.\n",
      "\n",
      "Aelim v. Alim.\n",
      "\n",
      "Aeneades 39, 21; v. Virgilius.\n",
      "\n",
      "Aesculapius, Scolapius 397, 25.\n",
      "\n",
      "Aesne v. Aeine,\n",
      "\n",
      "Aethel-, Aethil- v. Adal-.\n",
      "\n",
      "Aethiopia 478, 5.\n",
      "\n",
      "Africa 124, 16; Afer: Melchiades\n",
      "papa; Africanum concilium 526,33.\n",
      "\n",
      "Africanus, sc. Scipio Afr. 575, 36.\n",
      "\n",
      "Agar 584, 3s.\n",
      "\n",
      "Agareni, Aggareni 32, 19. 601, 21;\n",
      "v, Saraceni.\n",
      "\n",
      "Agathensis synodus 396,\n",
      "\n",
      "Aginus ep. Constantiensis 117, 32.\n",
      "\n",
      "129, 19.\n",
      "\n",
      "8\n",
      "\n"
     ]
    }
   ],
   "source": [
    "import pytesseract\n",
    "from PIL import Image\n",
    "pytesseract.pytesseract.tesseract_cmd = r'C:\\Users\\JetBl\\AppData\\Local\\Programs\\Tesseract-OCR\\tesseract.exe'\n",
    "\n",
    "image_file3 = \"index_02.jpg\"\n",
    "img3 = Image.open(image_file3)\n",
    "\n",
    "ocr_result3 = pytesseract.image_to_string(img3)\n",
    "print(ocr_result3)"
   ]
  }
 ],
 "metadata": {
  "kernelspec": {
   "display_name": "Python 3 (ipykernel)",
   "language": "python",
   "name": "python3"
  },
  "language_info": {
   "codemirror_mode": {
    "name": "ipython",
    "version": 3
   },
   "file_extension": ".py",
   "mimetype": "text/x-python",
   "name": "python",
   "nbconvert_exporter": "python",
   "pygments_lexer": "ipython3",
   "version": "3.11.5"
  }
 },
 "nbformat": 4,
 "nbformat_minor": 5
}
